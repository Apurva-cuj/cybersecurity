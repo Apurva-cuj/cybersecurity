{
  "nbformat": 4,
  "nbformat_minor": 0,
  "metadata": {
    "colab": {
      "name": "embeddingsDB.ipynb",
      "provenance": [],
      "collapsed_sections": [],
      "machine_shape": "hm",
      "include_colab_link": true
    },
    "kernelspec": {
      "name": "python3",
      "display_name": "Python 3"
    }
  },
  "cells": [
    {
      "cell_type": "markdown",
      "metadata": {
        "id": "view-in-github",
        "colab_type": "text"
      },
      "source": [
        "<a href=\"https://colab.research.google.com/github/iamsabhoho/cybersecurity/blob/master/graphEmbeddings.ipynb\" target=\"_parent\"><img src=\"https://colab.research.google.com/assets/colab-badge.svg\" alt=\"Open In Colab\"/></a>"
      ]
    },
    {
      "cell_type": "markdown",
      "metadata": {
        "id": "SDOr4rcmktPS",
        "colab_type": "text"
      },
      "source": [
        "# Graph Embedding Database Notebook\n",
        "This notebook produces a database of embeddings converted from the trained graphs using the best model from training."
      ]
    },
    {
      "cell_type": "code",
      "metadata": {
        "id": "b4RicK_lhcii",
        "colab_type": "code",
        "colab": {}
      },
      "source": [
        "# imports \n",
        "import tensorflow as tf\n",
        "import numpy as np\n",
        "from graphnnSiamese import graphnn\n",
        "from utils import * \n",
        "import os\n",
        "import json\n",
        "import matplotlib.pyplot as plt\n",
        "from sklearn.manifold import TSNE"
      ],
      "execution_count": 0,
      "outputs": []
    },
    {
      "cell_type": "code",
      "metadata": {
        "id": "6ntXJgUIlm1k",
        "colab_type": "code",
        "colab": {}
      },
      "source": [
        "# unzip data zip file\n",
        "!unzip data.zip"
      ],
      "execution_count": 0,
      "outputs": []
    },
    {
      "cell_type": "code",
      "metadata": {
        "id": "acZw92MSmGvH",
        "colab_type": "code",
        "colab": {}
      },
      "source": [
        "# set up of the model \n",
        "os.environ[\"CUDA_VISIBLE_DEVICES\"]='0'\n",
        "Dtype = tf.float32\n",
        "NODE_FEATURE_DIM = 7\n",
        "EMBED_DIM = 64\n",
        "EMBED_DEPTH = 2\n",
        "OUTPUT_DIM = 64\n",
        "ITERATION_LEVEL = 5\n",
        "LEARNING_RATE = 1e-4\n",
        "\n",
        "BATCH_SIZE = 5\n",
        "LOAD_PATH = 'graphnn-model_best'\n",
        "LOG_PATH = 'log.txt'\n",
        "\n",
        "DATA_FILE_NAME = './data/acfgSSL_{}/'.format(NODE_FEATURE_DIM)\n",
        "SOFTWARE=('openssl-1.0.1f-', 'openssl-1.0.1u-')\n",
        "OPTIMIZATION=('-O0', '-O1','-O2','-O3')\n",
        "COMPILER=('armeb-linux', 'i586-linux', 'mips-linux')\n",
        "VERSION=('v54',)\n",
        "\n",
        "gnn = graphnn(\n",
        "        N_x = NODE_FEATURE_DIM,\n",
        "        Dtype = Dtype, \n",
        "        N_embed = EMBED_DIM,\n",
        "        depth_embed = EMBED_DEPTH,\n",
        "        N_o = OUTPUT_DIM,\n",
        "        ITER_LEVEL = ITERATION_LEVEL,\n",
        "        lr = LEARNING_RATE\n",
        "    )\n",
        "gnn.init(LOAD_PATH, LOG_PATH)"
      ],
      "execution_count": 0,
      "outputs": []
    },
    {
      "cell_type": "code",
      "metadata": {
        "id": "W7_4KO3unu12",
        "colab_type": "code",
        "colab": {}
      },
      "source": [
        "FUNC_NAME_DICT = {}\n",
        "\n",
        "# Process the input graphs\n",
        "F_NAME = get_f_name(DATA_FILE_NAME, SOFTWARE, COMPILER,\n",
        "        OPTIMIZATION, VERSION)\n",
        "FUNC_NAME_DICT = get_f_dict(F_NAME)\n",
        "\n",
        "\n",
        "Gs, classes = read_graph(F_NAME, FUNC_NAME_DICT, NODE_FEATURE_DIM)\n",
        "print(\"{} graphs, {} functions\".format(len(Gs), len(classes)))\n",
        "\n",
        "\n",
        "if os.path.isfile('data/class_perm.npy'):\n",
        "    perm = np.load('data/class_perm.npy')\n",
        "else:\n",
        "    perm = np.random.permutation(len(classes))\n",
        "    np.save('data/class_perm.npy', perm)\n",
        "if len(perm) < len(classes):\n",
        "    perm = np.random.permutation(len(classes))\n",
        "    np.save('data/class_perm.npy', perm)\n",
        "\n",
        "Gs_train, classes_train, Gs_dev, classes_dev, Gs_test, classes_test =\\\n",
        "        partition_data(Gs,classes,[0.8,0.1,0.1], perm)\n",
        "\n",
        "print(\"Train: {} graphs, {} functions\".format(len(Gs_train), len(classes_train)))\n",
        "print(\"Dev: {} graphs, {} functions\".format(len(Gs_dev), len(classes_dev)))\n",
        "print(\"Test: {} graphs, {} functions\".format(len(Gs_test), len(classes_test)))"
      ],
      "execution_count": 0,
      "outputs": []
    },
    {
      "cell_type": "markdown",
      "metadata": {
        "id": "pkE_4n9Nlppl",
        "colab_type": "text"
      },
      "source": [
        "Get embeddings for each set of data"
      ]
    },
    {
      "cell_type": "code",
      "metadata": {
        "id": "zwlyuxAMzE6b",
        "colab_type": "code",
        "colab": {}
      },
      "source": [
        "train = get_vec(gnn, Gs_train, classes_train, BATCH_SIZE)"
      ],
      "execution_count": 0,
      "outputs": []
    },
    {
      "cell_type": "code",
      "metadata": {
        "id": "Ds0WcSk3YUKt",
        "colab_type": "code",
        "colab": {}
      },
      "source": [
        "vali = get_vec(gnn, Gs_dev, classes_dev, BATCH_SIZE)"
      ],
      "execution_count": 0,
      "outputs": []
    },
    {
      "cell_type": "code",
      "metadata": {
        "id": "-ImhRIeyYUAY",
        "colab_type": "code",
        "colab": {}
      },
      "source": [
        "test = get_vec(gnn, Gs_test, classes_test, BATCH_SIZE)"
      ],
      "execution_count": 0,
      "outputs": []
    },
    {
      "cell_type": "markdown",
      "metadata": {
        "id": "AkyvlQmwj6n1",
        "colab_type": "text"
      },
      "source": [
        "A list of function names from the t-SNE shown in [the paper](https://arxiv.org/pdf/1708.06525.pdf)"
      ]
    },
    {
      "cell_type": "code",
      "metadata": {
        "id": "kOFQeBkqHU3A",
        "colab_type": "code",
        "colab": {}
      },
      "source": [
        "lst = ['v2i_POLICY_MAPPINGS', 'genrsa_main', 'priv_decode_gost', 'prompt_info', 'ssl3_get_message']"
      ],
      "execution_count": 0,
      "outputs": []
    },
    {
      "cell_type": "markdown",
      "metadata": {
        "id": "ljxXk0R8kR21",
        "colab_type": "text"
      },
      "source": [
        "key: unique list of labels matching the list above"
      ]
    },
    {
      "cell_type": "code",
      "metadata": {
        "id": "H7i6Ym64_hsl",
        "colab_type": "code",
        "colab": {}
      },
      "source": [
        "labels = []\n",
        "for i in Gs:\n",
        "  if i.fname in lst:\n",
        "    labels.append(i.label)\n",
        "key = list(set(labels))"
      ],
      "execution_count": 0,
      "outputs": []
    },
    {
      "cell_type": "markdown",
      "metadata": {
        "id": "pi6mTnomiUkY",
        "colab_type": "text"
      },
      "source": [
        "Convert get_vec() output dictionary into a dictionary with:\n",
        "\n",
        "- keys: class label/id\n",
        "- values: list of all embeddings of the same class"
      ]
    },
    {
      "cell_type": "code",
      "metadata": {
        "id": "gytKXCRVRvll",
        "colab_type": "code",
        "colab": {}
      },
      "source": [
        "train_cls_dict = {}\n",
        "\n",
        "counter = 0\n",
        "\n",
        "for k in train.keys():\n",
        "  cls_id = train[k][0]\n",
        "  if cls_id in train_cls_dict.keys():\n",
        "    train_cls_dict[cls_id].append(train[k][1])\n",
        "  else:\n",
        "    train_cls_dict[cls_id] = [tain[k][1]]\n",
        "    \n",
        "  counter += 1\n",
        "  \n",
        "  if counter == 100000:\n",
        "    break\n",
        "  "
      ],
      "execution_count": 0,
      "outputs": []
    },
    {
      "cell_type": "code",
      "metadata": {
        "id": "KI5eSA17B1DZ",
        "colab_type": "code",
        "colab": {}
      },
      "source": [
        "vali_cls_dict = {}\n",
        "\n",
        "counter = 0\n",
        "\n",
        "for k in vali.keys():\n",
        "  cls_id = vali[k][0]\n",
        "  if cls_id in vali_cls_dict.keys():\n",
        "    vali_cls_dict[cls_id].append(vali[k][1])\n",
        "  else:\n",
        "    vali_cls_dict[cls_id] = [vali[k][1]]\n",
        "    \n",
        "  counter += 1\n",
        "  \n",
        "  if counter == 100000:\n",
        "    break\n",
        "  "
      ],
      "execution_count": 0,
      "outputs": []
    },
    {
      "cell_type": "code",
      "metadata": {
        "id": "UqshJ1vFaG-u",
        "colab_type": "code",
        "colab": {}
      },
      "source": [
        "test_cls_dict = {}\n",
        "\n",
        "counter = 0\n",
        "\n",
        "for k in test.keys():\n",
        "  cls_id = test[k][0]\n",
        "  if cls_id in test_cls_dict.keys():\n",
        "    test_cls_dict[cls_id].append(test[k][1])\n",
        "  else:\n",
        "    test_cls_dict[cls_id] = [test[k][1]]\n",
        "    \n",
        "  counter += 1\n",
        "  \n",
        "  if counter == 100000:\n",
        "    break\n",
        "  "
      ],
      "execution_count": 0,
      "outputs": []
    },
    {
      "cell_type": "markdown",
      "metadata": {
        "id": "TtILSadIi10y",
        "colab_type": "text"
      },
      "source": [
        "Get all embeddings and labels in list type"
      ]
    },
    {
      "cell_type": "code",
      "metadata": {
        "id": "AgIZGUa-ERhm",
        "colab_type": "code",
        "colab": {}
      },
      "source": [
        "train_embs = []\n",
        "train_labels1 = []\n",
        "\n",
        "for i in train_cls_dict.keys():\n",
        "  cnt = len(train_cls_dict[i])\n",
        "  for j in range(cnt):\n",
        "    train_labels1.append(i)\n",
        "  \n",
        "    train_embs.append(train_cls_dict[i][j])"
      ],
      "execution_count": 0,
      "outputs": []
    },
    {
      "cell_type": "code",
      "metadata": {
        "id": "_P2lJkorajAC",
        "colab_type": "code",
        "colab": {}
      },
      "source": [
        "vali_embs = []\n",
        "vali_labels1 = []\n",
        "\n",
        "for i in vali_cls_dict.keys():\n",
        "  cnt = len(vali_cls_dict[i])\n",
        "  for j in range(cnt):\n",
        "    vali_labels1.append(i)\n",
        "  \n",
        "    vali_embs.append(vali_cls_dict[i][j])"
      ],
      "execution_count": 0,
      "outputs": []
    },
    {
      "cell_type": "code",
      "metadata": {
        "id": "OoCOxYagaoux",
        "colab_type": "code",
        "colab": {}
      },
      "source": [
        "test_embs = []\n",
        "test_labels1 = []\n",
        "\n",
        "for i in test_cls_dict.keys():\n",
        "  cnt = len(test_cls_dict[i])\n",
        "  for j in range(cnt):\n",
        "    test_labels1.append(i)\n",
        "  \n",
        "    test_embs.append(test_cls_dict[i][j])"
      ],
      "execution_count": 0,
      "outputs": []
    },
    {
      "cell_type": "markdown",
      "metadata": {
        "id": "O4sAwh4Yi9si",
        "colab_type": "text"
      },
      "source": [
        "t-SNE plot with cosine metric"
      ]
    },
    {
      "cell_type": "code",
      "metadata": {
        "id": "pFt-js2TkiSQ",
        "colab_type": "code",
        "colab": {}
      },
      "source": [
        "model = TSNE(metric='cosine', n_iter=10000)\n",
        "transformed = model.fit_transform(train_embs)\n",
        "\n",
        "x = transformed[:,0]\n",
        "y = transformed[:,1]\n",
        "plt.scatter(x, y, c=train_labels1)\n",
        "plt.show()"
      ],
      "execution_count": 0,
      "outputs": []
    },
    {
      "cell_type": "code",
      "metadata": {
        "id": "CEgEuoY8JQSQ",
        "colab_type": "code",
        "colab": {}
      },
      "source": [
        "model = TSNE(metric='cosine', n_iter=10000)\n",
        "transformed = model.fit_transform(vali_embs)\n",
        "\n",
        "x = transformed[:,0]\n",
        "y = transformed[:,1]\n",
        "plt.scatter(x, y, c=vali_labels1)\n",
        "plt.show()"
      ],
      "execution_count": 0,
      "outputs": []
    },
    {
      "cell_type": "code",
      "metadata": {
        "id": "FjtwXG9eJmjH",
        "colab_type": "code",
        "colab": {}
      },
      "source": [
        "model = TSNE(metric='cosine', n_iter=10000)\n",
        "transformed = model.fit_transform(test_embs)\n",
        "\n",
        "x = transformed[:,0]\n",
        "y = transformed[:,1]\n",
        "plt.scatter(x, y, c=test_labels1)\n",
        "plt.show()"
      ],
      "execution_count": 0,
      "outputs": []
    },
    {
      "cell_type": "markdown",
      "metadata": {
        "id": "brDGF9bHjHGO",
        "colab_type": "text"
      },
      "source": [
        "For Tensorflow Projector used only"
      ]
    },
    {
      "cell_type": "code",
      "metadata": {
        "id": "-I8R6PkrS2Dz",
        "colab_type": "code",
        "colab": {}
      },
      "source": [
        "f = open(\"tsne-data.tsv\", \"w\")\n",
        "for i in embs:\n",
        "  for j in range(64):\n",
        "    f.write(\"%f\\t\" %i[j])\n",
        "  f.write(\"\\n\")\n",
        "f.flush()\n",
        "f.close()"
      ],
      "execution_count": 0,
      "outputs": []
    },
    {
      "cell_type": "code",
      "metadata": {
        "id": "ip-Gh3uHZnDZ",
        "colab_type": "code",
        "colab": {}
      },
      "source": [
        "f1 = open(\"labels.tsv\", \"w\")\n",
        "for i in labels1:\n",
        "  f1.write(\"%d\\n\" %i)\n",
        "f1.flush()\n",
        "f1.close()"
      ],
      "execution_count": 0,
      "outputs": []
    },
    {
      "cell_type": "code",
      "metadata": {
        "id": "Hm0QNoRhjioW",
        "colab_type": "code",
        "colab": {}
      },
      "source": [
        ""
      ],
      "execution_count": 0,
      "outputs": []
    }
  ]
}
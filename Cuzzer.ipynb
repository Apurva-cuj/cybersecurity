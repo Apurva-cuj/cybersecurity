{
  "nbformat": 4,
  "nbformat_minor": 0,
  "metadata": {
    "colab": {
      "name": "Copy of embeddingsDB.ipynb",
      "provenance": [],
      "collapsed_sections": [],
      "toc_visible": true,
      "machine_shape": "hm",
      "include_colab_link": true
    },
    "kernelspec": {
      "name": "python3",
      "display_name": "Python 3"
    },
    "accelerator": "GPU"
  },
  "cells": [
    {
      "cell_type": "markdown",
      "metadata": {
        "id": "view-in-github",
        "colab_type": "text"
      },
      "source": [
        "<a href=\"https://colab.research.google.com/github/Apurva-cuj/cybersecurity/blob/master/Cuzzer.ipynb\" target=\"_parent\"><img src=\"https://colab.research.google.com/assets/colab-badge.svg\" alt=\"Open In Colab\"/></a>"
      ]
    },
    {
      "cell_type": "markdown",
      "metadata": {
        "id": "SDOr4rcmktPS"
      },
      "source": [
        "# Graph Embedding Database Notebook\n",
        "This notebook produces a database of embeddings converted from the trained graphs using the best model from training."
      ]
    },
    {
      "cell_type": "code",
      "metadata": {
        "id": "eUAbUz6X2Qwt",
        "colab": {
          "base_uri": "https://localhost:8080/"
        },
        "outputId": "b850cebf-b7b0-4ab4-ff77-4a00819b9e3d"
      },
      "source": [
        "!nvidia-smi"
      ],
      "execution_count": 1,
      "outputs": [
        {
          "output_type": "stream",
          "text": [
            "Fri Jun  4 14:35:25 2021       \n",
            "+-----------------------------------------------------------------------------+\n",
            "| NVIDIA-SMI 465.27       Driver Version: 460.32.03    CUDA Version: 11.2     |\n",
            "|-------------------------------+----------------------+----------------------+\n",
            "| GPU  Name        Persistence-M| Bus-Id        Disp.A | Volatile Uncorr. ECC |\n",
            "| Fan  Temp  Perf  Pwr:Usage/Cap|         Memory-Usage | GPU-Util  Compute M. |\n",
            "|                               |                      |               MIG M. |\n",
            "|===============================+======================+======================|\n",
            "|   0  Tesla T4            Off  | 00000000:00:04.0 Off |                    0 |\n",
            "| N/A   40C    P8     9W /  70W |      0MiB / 15109MiB |      0%      Default |\n",
            "|                               |                      |                  N/A |\n",
            "+-------------------------------+----------------------+----------------------+\n",
            "                                                                               \n",
            "+-----------------------------------------------------------------------------+\n",
            "| Processes:                                                                  |\n",
            "|  GPU   GI   CI        PID   Type   Process name                  GPU Memory |\n",
            "|        ID   ID                                                   Usage      |\n",
            "|=============================================================================|\n",
            "|  No running processes found                                                 |\n",
            "+-----------------------------------------------------------------------------+\n"
          ],
          "name": "stdout"
        }
      ]
    },
    {
      "cell_type": "code",
      "metadata": {
        "id": "4wZPQ3zE0Xmn",
        "colab": {
          "base_uri": "https://localhost:8080/"
        },
        "outputId": "8a554508-8efb-4b76-dc84-d5e6d01c7f34"
      },
      "source": [
        "from google.colab import drive\n",
        "drive.mount('/content/drive')"
      ],
      "execution_count": 2,
      "outputs": [
        {
          "output_type": "stream",
          "text": [
            "Drive already mounted at /content/drive; to attempt to forcibly remount, call drive.mount(\"/content/drive\", force_remount=True).\n"
          ],
          "name": "stdout"
        }
      ]
    },
    {
      "cell_type": "code",
      "metadata": {
        "id": "BewRMtVa1Duf"
      },
      "source": [
        "import sys\n",
        "sys.path.append('/content/drive/MyDrive/cybersecurity-master')"
      ],
      "execution_count": 3,
      "outputs": []
    },
    {
      "cell_type": "code",
      "metadata": {
        "id": "b4RicK_lhcii"
      },
      "source": [
        "# imports \n",
        "import tensorflow as tf\n",
        "import numpy as np\n",
        "from graphnnSiamese import graphnn\n",
        "from utils import * \n",
        "import os\n",
        "import json\n",
        "import matplotlib.pyplot as plt\n",
        "from sklearn.manifold import TSNE"
      ],
      "execution_count": 4,
      "outputs": []
    },
    {
      "cell_type": "code",
      "metadata": {
        "id": "vRHRQyoO2fy3",
        "colab": {
          "base_uri": "https://localhost:8080/"
        },
        "outputId": "e949cd16-7249-4dac-f123-455bb29c8359"
      },
      "source": [
        "!pwd"
      ],
      "execution_count": 5,
      "outputs": [
        {
          "output_type": "stream",
          "text": [
            "/content\n"
          ],
          "name": "stdout"
        }
      ]
    },
    {
      "cell_type": "code",
      "metadata": {
        "id": "_exGovOb2nxl",
        "colab": {
          "base_uri": "https://localhost:8080/"
        },
        "outputId": "84211731-bafa-48a1-f476-af18322860b6"
      },
      "source": [
        "cd /content/drive/MyDrive/cybersecurity-master"
      ],
      "execution_count": 6,
      "outputs": [
        {
          "output_type": "stream",
          "text": [
            "/content/drive/MyDrive/cybersecurity-master\n"
          ],
          "name": "stdout"
        }
      ]
    },
    {
      "cell_type": "code",
      "metadata": {
        "id": "6ntXJgUIlm1k",
        "colab": {
          "base_uri": "https://localhost:8080/"
        },
        "outputId": "6697da3d-b3b8-4304-ac9f-261a523c44a4"
      },
      "source": [
        "# unzip data zip file\n",
        "!unzip data.zip"
      ],
      "execution_count": 7,
      "outputs": [
        {
          "output_type": "stream",
          "text": [
            "Archive:  data.zip\n",
            "replace data/class_perm.npy? [y]es, [n]o, [A]ll, [N]one, [r]ename: N\n"
          ],
          "name": "stdout"
        }
      ]
    },
    {
      "cell_type": "code",
      "metadata": {
        "id": "acZw92MSmGvH",
        "colab": {
          "base_uri": "https://localhost:8080/"
        },
        "outputId": "8dcc59ea-60fb-4c99-aae9-6cb6d1256da8"
      },
      "source": [
        "# set up of the model \n",
        "os.environ[\"CUDA_VISIBLE_DEVICES\"]='0'\n",
        "Dtype = tf.float32\n",
        "NODE_FEATURE_DIM = 7\n",
        "EMBED_DIM = 64\n",
        "EMBED_DEPTH = 2\n",
        "OUTPUT_DIM = 64\n",
        "ITERATION_LEVEL = 5\n",
        "#LEARNING_RATE = tf.cast(1e-4,'float32')\n",
        "#LEARNING_RATE = tf.as_dtype(1e-4)\n",
        "LEARNING_RATE = 1e-4\n",
        "\n",
        "tf.compat.v1.disable_eager_execution()\n",
        "BATCH_SIZE = 2\n",
        "LOAD_PATH= None\n",
        "#LOAD_PATH = 'graphnn-model_best'\n",
        "LOG_PATH = 'log.txt'\n",
        "\n",
        "DATA_FILE_NAME = './data/acfgSSL_{}/'.format(NODE_FEATURE_DIM)\n",
        "SOFTWARE=('openssl-1.0.1f-', 'openssl-1.0.1u-')\n",
        "OPTIMIZATION=('-O0', '-O1','-O2','-O3')\n",
        "COMPILER=('armeb-linux', 'i586-linux', 'mips-linux')\n",
        "VERSION=('v54',)\n",
        "\n",
        "\n",
        "gnn = graphnn(\n",
        "        N_x = NODE_FEATURE_DIM,\n",
        "        Dtype = Dtype, \n",
        "        N_embed = EMBED_DIM,\n",
        "        depth_embed = EMBED_DEPTH,\n",
        "        N_o = OUTPUT_DIM,\n",
        "        ITER_LEVEL = ITERATION_LEVEL,\n",
        "       # lr=\"0.0001\"\n",
        "        lr = LEARNING_RATE\n",
        "      )\n",
        "gnn.init(LOAD_PATH, LOG_PATH)"
      ],
      "execution_count": 8,
      "outputs": [
        {
          "output_type": "stream",
          "text": [
            "Device mapping:\n",
            "/job:localhost/replica:0/task:0/device:GPU:0 -> device: 0, name: Tesla T4, pci bus id: 0000:00:04.0, compute capability: 7.5\n",
            "\n",
            "Training start @ 2021-06-04 14:35:51.060636\n"
          ],
          "name": "stdout"
        }
      ]
    },
    {
      "cell_type": "code",
      "metadata": {
        "id": "W7_4KO3unu12",
        "colab": {
          "base_uri": "https://localhost:8080/"
        },
        "outputId": "675e886f-69ad-44e1-dcf1-51fa434dc1e5"
      },
      "source": [
        "FUNC_NAME_DICT = {}\n",
        "\n",
        "# Process the input graphs\n",
        "F_NAME = get_f_name(DATA_FILE_NAME, SOFTWARE, COMPILER,\n",
        "        OPTIMIZATION, VERSION)\n",
        "FUNC_NAME_DICT = get_f_dict(F_NAME)\n",
        "\n",
        "\n",
        "Gs, classes = read_graph(F_NAME, FUNC_NAME_DICT, NODE_FEATURE_DIM)\n",
        "print(\"{} graphs, {} functions\".format(len(Gs), len(classes)))\n",
        "\n",
        "\n",
        "if os.path.isfile('data/class_perm.npy'):\n",
        "    perm = np.load('data/class_perm.npy')\n",
        "else:\n",
        "    perm = np.random.permutation(len(classes))\n",
        "    np.save('data/class_perm.npy', perm)\n",
        "if len(perm) < len(classes):\n",
        "    perm = np.random.permutation(len(classes))\n",
        "    np.save('data/class_perm.npy', perm)\n",
        "\n",
        "Gs_train, classes_train, Gs_dev, classes_dev, Gs_test, classes_test =\\\n",
        "        partition_data(Gs,classes,[0.8,0.1,0.1], perm)\n",
        "\n",
        "print(\"Train: {} graphs, {} functions\".format(len(Gs_train), len(classes_train)))\n",
        "print(\"Dev: {} graphs, {} functions\".format(len(Gs_dev), len(classes_dev)))\n",
        "print(\"Test: {} graphs, {} functions\".format(len(Gs_test), len(classes_test)))"
      ],
      "execution_count": 9,
      "outputs": [
        {
          "output_type": "stream",
          "text": [
            "129365 graphs, 7305 functions\n",
            "Train: 103732 graphs, 5844 functions\n",
            "Dev: 12726 graphs, 730 functions\n",
            "Test: 12907 graphs, 731 functions\n"
          ],
          "name": "stdout"
        }
      ]
    },
    {
      "cell_type": "markdown",
      "metadata": {
        "id": "pkE_4n9Nlppl"
      },
      "source": [
        "Get embeddings for each set of data"
      ]
    },
    {
      "cell_type": "code",
      "metadata": {
        "id": "zwlyuxAMzE6b"
      },
      "source": [
        "train = get_vec(gnn, Gs_train, classes_train, BATCH_SIZE)"
      ],
      "execution_count": 10,
      "outputs": []
    },
    {
      "cell_type": "code",
      "metadata": {
        "id": "Ds0WcSk3YUKt"
      },
      "source": [
        "vali = get_vec(gnn, Gs_dev, classes_dev, BATCH_SIZE)"
      ],
      "execution_count": 11,
      "outputs": []
    },
    {
      "cell_type": "code",
      "metadata": {
        "id": "-ImhRIeyYUAY"
      },
      "source": [
        "test = get_vec(gnn, Gs_test, classes_test, BATCH_SIZE)"
      ],
      "execution_count": 12,
      "outputs": []
    },
    {
      "cell_type": "markdown",
      "metadata": {
        "id": "AkyvlQmwj6n1"
      },
      "source": [
        "A list of function names from the t-SNE shown in [the paper](https://arxiv.org/pdf/1708.06525.pdf)"
      ]
    },
    {
      "cell_type": "code",
      "metadata": {
        "id": "kOFQeBkqHU3A"
      },
      "source": [
        "lst = ['v2i_POLICY_MAPPINGS', 'genrsa_main', 'priv_decode_gost', 'prompt_info', 'ssl3_get_message']"
      ],
      "execution_count": 13,
      "outputs": []
    },
    {
      "cell_type": "markdown",
      "metadata": {
        "id": "ljxXk0R8kR21"
      },
      "source": [
        "key: unique list of labels matching the list above"
      ]
    },
    {
      "cell_type": "code",
      "metadata": {
        "id": "H7i6Ym64_hsl"
      },
      "source": [
        "labels = []\n",
        "for i in Gs:\n",
        "  if i.fname in lst:\n",
        "    labels.append(i.label)\n",
        "key = list(set(labels))"
      ],
      "execution_count": 14,
      "outputs": []
    },
    {
      "cell_type": "markdown",
      "metadata": {
        "id": "pi6mTnomiUkY"
      },
      "source": [
        "Convert get_vec() output dictionary into a dictionary with:\n",
        "\n",
        "- keys: class label/id\n",
        "- values: list of all embeddings of the same class"
      ]
    },
    {
      "cell_type": "code",
      "metadata": {
        "id": "gytKXCRVRvll"
      },
      "source": [
        "train_cls_dict = {}\n",
        "\n",
        "counter = 0\n",
        "\n",
        "for k in train.keys():\n",
        "  cls_id = train[k][0]\n",
        "  if cls_id in train_cls_dict.keys():\n",
        "    train_cls_dict[cls_id].append(train[k][1])\n",
        "  else:\n",
        "    train_cls_dict[cls_id] = [train[k][1]]\n",
        "    \n",
        "  counter += 1\n",
        "  \n",
        "  if counter == 100000:\n",
        "    break\n",
        "  "
      ],
      "execution_count": 15,
      "outputs": []
    },
    {
      "cell_type": "code",
      "metadata": {
        "id": "KI5eSA17B1DZ"
      },
      "source": [
        "vali_cls_dict = {}\n",
        "\n",
        "counter = 0\n",
        "\n",
        "for k in vali.keys():\n",
        "  cls_id = vali[k][0]\n",
        "  if cls_id in vali_cls_dict.keys():\n",
        "    vali_cls_dict[cls_id].append(vali[k][1])\n",
        "  else:\n",
        "    vali_cls_dict[cls_id] = [vali[k][1]]\n",
        "    \n",
        "  counter += 1\n",
        "  \n",
        "  if counter == 100000:\n",
        "    break\n",
        "  "
      ],
      "execution_count": 16,
      "outputs": []
    },
    {
      "cell_type": "code",
      "metadata": {
        "id": "UqshJ1vFaG-u"
      },
      "source": [
        "test_cls_dict = {}\n",
        "\n",
        "counter = 0\n",
        "\n",
        "for k in test.keys():\n",
        "  cls_id = test[k][0]\n",
        "  if cls_id in test_cls_dict.keys():\n",
        "    test_cls_dict[cls_id].append(test[k][1])\n",
        "  else:\n",
        "    test_cls_dict[cls_id] = [test[k][1]]\n",
        "    \n",
        "  counter += 1\n",
        "  \n",
        "  if counter == 100000:\n",
        "    break\n",
        "  "
      ],
      "execution_count": 17,
      "outputs": []
    },
    {
      "cell_type": "markdown",
      "metadata": {
        "id": "TtILSadIi10y"
      },
      "source": [
        "Get all embeddings and labels in list type"
      ]
    },
    {
      "cell_type": "code",
      "metadata": {
        "id": "AgIZGUa-ERhm"
      },
      "source": [
        "train_embs = []\n",
        "train_labels1 = []\n",
        "\n",
        "for i in train_cls_dict.keys():\n",
        "  cnt = len(train_cls_dict[i])\n",
        "  for j in range(cnt):\n",
        "    train_labels1.append(i)\n",
        "  \n",
        "    train_embs.append(train_cls_dict[i][j])"
      ],
      "execution_count": 18,
      "outputs": []
    },
    {
      "cell_type": "code",
      "metadata": {
        "id": "_P2lJkorajAC"
      },
      "source": [
        "vali_embs = []\n",
        "vali_labels1 = []\n",
        "\n",
        "for i in vali_cls_dict.keys():\n",
        "  cnt = len(vali_cls_dict[i])\n",
        "  for j in range(cnt):\n",
        "    vali_labels1.append(i)\n",
        "  \n",
        "    vali_embs.append(vali_cls_dict[i][j])"
      ],
      "execution_count": 19,
      "outputs": []
    },
    {
      "cell_type": "code",
      "metadata": {
        "id": "OoCOxYagaoux"
      },
      "source": [
        "test_embs = []\n",
        "test_labels1 = []\n",
        "\n",
        "for i in test_cls_dict.keys():\n",
        "  cnt = len(test_cls_dict[i])\n",
        "  for j in range(cnt):\n",
        "    test_labels1.append(i)\n",
        "  \n",
        "    test_embs.append(test_cls_dict[i][j])"
      ],
      "execution_count": 20,
      "outputs": []
    },
    {
      "cell_type": "markdown",
      "metadata": {
        "id": "O4sAwh4Yi9si"
      },
      "source": [
        "t-SNE plot with cosine metric"
      ]
    },
    {
      "cell_type": "code",
      "metadata": {
        "id": "pFt-js2TkiSQ",
        "colab": {
          "base_uri": "https://localhost:8080/",
          "height": 265
        },
        "outputId": "6f996e7d-7a18-4ccb-c322-14ab93966951"
      },
      "source": [
        "model = TSNE(metric='cosine', n_iter=10000)\n",
        "transformed = model.fit_transform(train_embs)\n",
        "\n",
        "x = transformed[:,0]\n",
        "y = transformed[:,1]\n",
        "plt.scatter(x, y, c=train_labels1)\n",
        "plt.show()"
      ],
      "execution_count": 21,
      "outputs": [
        {
          "output_type": "display_data",
          "data": {
            "image/png": "[encoded data removed]",
            "text/plain": [
              "<Figure size 432x288 with 1 Axes>"
            ]
          },
          "metadata": {
            "tags": [],
            "needs_background": "light"
          }
        }
      ]
    },
    {
      "cell_type": "code",
      "metadata": {
        "id": "CEgEuoY8JQSQ",
        "colab": {
          "base_uri": "https://localhost:8080/",
          "height": 269
        },
        "outputId": "435ecb36-86b6-45dd-8325-5cfc47795a34"
      },
      "source": [
        "model = TSNE(metric='cosine', n_iter=10000)\n",
        "transformed = model.fit_transform(vali_embs)\n",
        "\n",
        "x = transformed[:,0]\n",
        "y = transformed[:,1]\n",
        "plt.scatter(x, y, c=vali_labels1)\n",
        "plt.show()"
      ],
      "execution_count": 22,
      "outputs": [
        {
          "output_type": "display_data",
          "data": {
            "image/png": "[encoded data removed]",
            "text/plain": [
              "<Figure size 432x288 with 1 Axes>"
            ]
          },
          "metadata": {
            "tags": [],
            "needs_background": "light"
          }
        }
      ]
    },
    {
      "cell_type": "code",
      "metadata": {
        "id": "FjtwXG9eJmjH",
        "colab": {
          "base_uri": "https://localhost:8080/",
          "height": 265
        },
        "outputId": "1237c795-6f3e-4d5b-8216-ade08594264d"
      },
      "source": [
        "model = TSNE(metric='cosine', n_iter=10000)\n",
        "transformed = model.fit_transform(test_embs)\n",
        "\n",
        "x = transformed[:,0]\n",
        "y = transformed[:,1]\n",
        "plt.scatter(x, y, c=test_labels1)\n",
        "plt.show()"
      ],
      "execution_count": 23,
      "outputs": [
        {
          "output_type": "display_data",
          "data": {
            "image/png": "[encoded data removed]",
            "text/plain": [
              "<Figure size 432x288 with 1 Axes>"
            ]
          },
          "metadata": {
            "tags": [],
            "needs_background": "light"
          }
        }
      ]
    },
    {
      "cell_type": "markdown",
      "metadata": {
        "id": "brDGF9bHjHGO"
      },
      "source": [
        "For Tensorflow Projector used only"
      ]
    },
    {
      "cell_type": "code",
      "metadata": {
        "id": "-I8R6PkrS2Dz",
        "colab": {
          "base_uri": "https://localhost:8080/",
          "height": 228
        },
        "outputId": "3d975657-91e9-4fe0-adaa-f1d8277c8f36"
      },
      "source": [
        "f = open(\"tsne-data.tsv\", \"w\")\n",
        "for i in embs:\n",
        "  for j in range(64):\n",
        "    f.write(\"%f\\t\" %i[j])\n",
        "  f.write(\"\\n\")\n",
        "f.flush()\n",
        "f.close()"
      ],
      "execution_count": 24,
      "outputs": [
        {
          "output_type": "error",
          "ename": "NameError",
          "evalue": "ignored",
          "traceback": [
            "\u001b[0;31m---------------------------------------------------------------------------\u001b[0m",
            "\u001b[0;31mNameError\u001b[0m                                 Traceback (most recent call last)",
            "\u001b[0;32m<ipython-input-24-abd0751be17d>\u001b[0m in \u001b[0;36m<module>\u001b[0;34m()\u001b[0m\n\u001b[1;32m      1\u001b[0m \u001b[0mf\u001b[0m \u001b[0;34m=\u001b[0m \u001b[0mopen\u001b[0m\u001b[0;34m(\u001b[0m\u001b[0;34m\"tsne-data.tsv\"\u001b[0m\u001b[0;34m,\u001b[0m \u001b[0;34m\"w\"\u001b[0m\u001b[0;34m)\u001b[0m\u001b[0;34m\u001b[0m\u001b[0;34m\u001b[0m\u001b[0m\n\u001b[0;32m----> 2\u001b[0;31m \u001b[0;32mfor\u001b[0m \u001b[0mi\u001b[0m \u001b[0;32min\u001b[0m \u001b[0membs\u001b[0m\u001b[0;34m:\u001b[0m\u001b[0;34m\u001b[0m\u001b[0;34m\u001b[0m\u001b[0m\n\u001b[0m\u001b[1;32m      3\u001b[0m   \u001b[0;32mfor\u001b[0m \u001b[0mj\u001b[0m \u001b[0;32min\u001b[0m \u001b[0mrange\u001b[0m\u001b[0;34m(\u001b[0m\u001b[0;36m64\u001b[0m\u001b[0;34m)\u001b[0m\u001b[0;34m:\u001b[0m\u001b[0;34m\u001b[0m\u001b[0;34m\u001b[0m\u001b[0m\n\u001b[1;32m      4\u001b[0m     \u001b[0mf\u001b[0m\u001b[0;34m.\u001b[0m\u001b[0mwrite\u001b[0m\u001b[0;34m(\u001b[0m\u001b[0;34m\"%f\\t\"\u001b[0m \u001b[0;34m%\u001b[0m\u001b[0mi\u001b[0m\u001b[0;34m[\u001b[0m\u001b[0mj\u001b[0m\u001b[0;34m]\u001b[0m\u001b[0;34m)\u001b[0m\u001b[0;34m\u001b[0m\u001b[0;34m\u001b[0m\u001b[0m\n\u001b[1;32m      5\u001b[0m   \u001b[0mf\u001b[0m\u001b[0;34m.\u001b[0m\u001b[0mwrite\u001b[0m\u001b[0;34m(\u001b[0m\u001b[0;34m\"\\n\"\u001b[0m\u001b[0;34m)\u001b[0m\u001b[0;34m\u001b[0m\u001b[0;34m\u001b[0m\u001b[0m\n",
            "\u001b[0;31mNameError\u001b[0m: name 'embs' is not defined"
          ]
        }
      ]
    },
    {
      "cell_type": "code",
      "metadata": {
        "id": "ip-Gh3uHZnDZ"
      },
      "source": [
        "f1 = open(\"labels.tsv\", \"w\")\n",
        "for i in labels1:\n",
        "  f1.write(\"%d\\n\" %i)\n",
        "f1.flush()\n",
        "f1.close()"
      ],
      "execution_count": null,
      "outputs": []
    },
    {
      "cell_type": "code",
      "metadata": {
        "id": "Hm0QNoRhjioW"
      },
      "source": [
        "print (\"Hello \")"
      ],
      "execution_count": null,
      "outputs": []
    },
    {
      "cell_type": "code",
      "metadata": {
        "id": "4Z8sCk2aCMXN"
      },
      "source": [
        "python "
      ],
      "execution_count": null,
      "outputs": []
    },
    {
      "cell_type": "code",
      "metadata": {
        "id": "saEu0_dnDTgN"
      },
      "source": [
        "!python3 eval.py"
      ],
      "execution_count": null,
      "outputs": []
    },
    {
      "cell_type": "code",
      "metadata": {
        "id": "ERlyb285DzYb"
      },
      "source": [
        "f = open(\"demofile2.txt\", \"w\")\n",
        "f.write(str(1))\n",
        "f.write(\"\\t\")\n",
        "f.write(str(2))\n",
        "f.close()\n"
      ],
      "execution_count": null,
      "outputs": []
    },
    {
      "cell_type": "code",
      "metadata": {
        "id": "dz5QBzYtPXbg"
      },
      "source": [
        ""
      ],
      "execution_count": null,
      "outputs": []
    }
  ]
}